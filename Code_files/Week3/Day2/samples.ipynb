{
 "cells": [
  {
   "cell_type": "code",
   "execution_count": 1,
   "id": "9f99582e",
   "metadata": {},
   "outputs": [
    {
     "name": "stdout",
     "output_type": "stream",
     "text": [
      "Determinant:  5.000000000000001\n"
     ]
    }
   ],
   "source": [
    "import numpy as np\n",
    "\n",
    "A = np.array([[2, 3], [1,4]])\n",
    "determinant = np.linalg.det(A)\n",
    "print(\"Determinant: \", determinant)"
   ]
  },
  {
   "cell_type": "code",
   "execution_count": 2,
   "id": "ffe67340",
   "metadata": {},
   "outputs": [
    {
     "name": "stdout",
     "output_type": "stream",
     "text": [
      "Inverse of A: \n",
      " [[ 0.8 -0.6]\n",
      " [-0.2  0.4]]\n"
     ]
    }
   ],
   "source": [
    "inverse = np.linalg.inv(A)\n",
    "print(\"Inverse of A: \\n\", inverse)"
   ]
  },
  {
   "cell_type": "code",
   "execution_count": 3,
   "id": "57f2e936",
   "metadata": {},
   "outputs": [
    {
     "name": "stdout",
     "output_type": "stream",
     "text": [
      "EigenVal\n",
      " [1. 5.]\n",
      "EigenVectors\n",
      " [[-0.9486833  -0.70710678]\n",
      " [ 0.31622777 -0.70710678]]\n"
     ]
    }
   ],
   "source": [
    "eigenValues, eigneVectors = np.linalg.eig(A)\n",
    "print(\"EigenVal\\n\", eigenValues)\n",
    "print(\"EigenVectors\\n\", eigneVectors)"
   ]
  },
  {
   "cell_type": "code",
   "execution_count": 4,
   "id": "bc65b622",
   "metadata": {},
   "outputs": [
    {
     "name": "stdout",
     "output_type": "stream",
     "text": [
      "EigVal:  [4.56155281 0.43844719]\n",
      "EigVect: \n",
      " [[ 0.96276969 -0.48963374]\n",
      " [ 0.27032301  0.87192821]]\n"
     ]
    }
   ],
   "source": [
    "B = np.array([[4, 2], [1, 1]])\n",
    "eigval, eigvec = np.linalg.eig(B)\n",
    "print(\"EigVal: \",eigval)\n",
    "print(\"EigVect: \\n\",eigvec)"
   ]
  },
  {
   "cell_type": "code",
   "execution_count": null,
   "id": "ecaa8876",
   "metadata": {},
   "outputs": [
    {
     "name": "stdout",
     "output_type": "stream",
     "text": [
      "U: \n",
      " [[-0.65520174 -0.75545395]\n",
      " [-0.75545395  0.65520174]]\n",
      "Singular Values: \n",
      " [5.39834564 0.92620968]\n",
      "V Transpose: \n",
      " [[-0.38268343 -0.92387953]\n",
      " [-0.92387953  0.38268343]]\n"
     ]
    },
    {
     "ename": "",
     "evalue": "",
     "output_type": "error",
     "traceback": [
      "\u001b[1;31mThe Kernel crashed while executing code in the current cell or a previous cell. \n",
      "\u001b[1;31mPlease review the code in the cell(s) to identify a possible cause of the failure. \n",
      "\u001b[1;31mClick <a href='https://aka.ms/vscodeJupyterKernelCrash'>here</a> for more info. \n",
      "\u001b[1;31mView Jupyter <a href='command:jupyter.viewOutput'>log</a> for further details."
     ]
    }
   ],
   "source": [
    "U, S, Vt = np.linalg.svd(A)\n",
    "print(\"U: \\n\", U)\n",
    "print(\"Singular Values: \\n\", S)\n",
    "print(\"V Transpose: \\n\", Vt)"
   ]
  },
  {
   "cell_type": "code",
   "execution_count": null,
   "id": "be848070",
   "metadata": {},
   "outputs": [],
   "source": []
  }
 ],
 "metadata": {
  "kernelspec": {
   "display_name": "base",
   "language": "python",
   "name": "python3"
  },
  "language_info": {
   "codemirror_mode": {
    "name": "ipython",
    "version": 3
   },
   "file_extension": ".py",
   "mimetype": "text/x-python",
   "name": "python",
   "nbconvert_exporter": "python",
   "pygments_lexer": "ipython3",
   "version": "3.12.7"
  }
 },
 "nbformat": 4,
 "nbformat_minor": 5
}
